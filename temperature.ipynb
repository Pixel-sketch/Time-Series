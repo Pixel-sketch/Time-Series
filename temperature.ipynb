{
 "cells": [
  {
   "cell_type": "code",
   "execution_count": 63,
   "id": "c7b8d48c",
   "metadata": {},
   "outputs": [],
   "source": [
    "import numpy as np\n",
    "import pandas as pd\n",
    "import matplotlib.pyplot as plt\n",
    "import seaborn as sns"
   ]
  },
  {
   "cell_type": "code",
   "execution_count": 64,
   "id": "6e2f5f67",
   "metadata": {},
   "outputs": [],
   "source": [
    "data=pd.read_csv(\"D:\\\\125156027\\\\weather_2016_2020_daily.csv\")"
   ]
  },
  {
   "cell_type": "code",
   "execution_count": 65,
   "id": "9240ded6",
   "metadata": {},
   "outputs": [
    {
     "data": {
      "text/html": [
       "<div>\n",
       "<style scoped>\n",
       "    .dataframe tbody tr th:only-of-type {\n",
       "        vertical-align: middle;\n",
       "    }\n",
       "\n",
       "    .dataframe tbody tr th {\n",
       "        vertical-align: top;\n",
       "    }\n",
       "\n",
       "    .dataframe thead th {\n",
       "        text-align: right;\n",
       "    }\n",
       "</style>\n",
       "<table border=\"1\" class=\"dataframe\">\n",
       "  <thead>\n",
       "    <tr style=\"text-align: right;\">\n",
       "      <th></th>\n",
       "      <th>Date</th>\n",
       "      <th>Day</th>\n",
       "      <th>Temp_max</th>\n",
       "      <th>Temp_avg</th>\n",
       "      <th>Temp_min</th>\n",
       "      <th>Dew_max</th>\n",
       "      <th>Dew_avg</th>\n",
       "      <th>Dew_min</th>\n",
       "      <th>Hum_max</th>\n",
       "      <th>Hum_avg</th>\n",
       "      <th>Hum_min</th>\n",
       "      <th>Wind_max</th>\n",
       "      <th>Wind_avg</th>\n",
       "      <th>Wind_min</th>\n",
       "      <th>Press_max</th>\n",
       "      <th>Press_avg</th>\n",
       "      <th>Press_min</th>\n",
       "      <th>Precipit</th>\n",
       "      <th>day_of_week</th>\n",
       "    </tr>\n",
       "  </thead>\n",
       "  <tbody>\n",
       "    <tr>\n",
       "      <th>0</th>\n",
       "      <td>2016-01-06</td>\n",
       "      <td>1</td>\n",
       "      <td>85</td>\n",
       "      <td>74.8</td>\n",
       "      <td>68</td>\n",
       "      <td>74</td>\n",
       "      <td>71.4</td>\n",
       "      <td>66</td>\n",
       "      <td>100</td>\n",
       "      <td>89.4</td>\n",
       "      <td>65</td>\n",
       "      <td>21</td>\n",
       "      <td>9.5</td>\n",
       "      <td>0</td>\n",
       "      <td>29.8</td>\n",
       "      <td>29.8</td>\n",
       "      <td>29.7</td>\n",
       "      <td>0.00</td>\n",
       "      <td>2</td>\n",
       "    </tr>\n",
       "    <tr>\n",
       "      <th>1</th>\n",
       "      <td>2016-02-06</td>\n",
       "      <td>2</td>\n",
       "      <td>76</td>\n",
       "      <td>71.2</td>\n",
       "      <td>66</td>\n",
       "      <td>74</td>\n",
       "      <td>70.3</td>\n",
       "      <td>66</td>\n",
       "      <td>100</td>\n",
       "      <td>96.8</td>\n",
       "      <td>89</td>\n",
       "      <td>18</td>\n",
       "      <td>7.8</td>\n",
       "      <td>0</td>\n",
       "      <td>29.8</td>\n",
       "      <td>29.8</td>\n",
       "      <td>29.7</td>\n",
       "      <td>4.33</td>\n",
       "      <td>5</td>\n",
       "    </tr>\n",
       "    <tr>\n",
       "      <th>2</th>\n",
       "      <td>2016-03-06</td>\n",
       "      <td>3</td>\n",
       "      <td>79</td>\n",
       "      <td>72.1</td>\n",
       "      <td>68</td>\n",
       "      <td>72</td>\n",
       "      <td>70.0</td>\n",
       "      <td>68</td>\n",
       "      <td>100</td>\n",
       "      <td>93.6</td>\n",
       "      <td>72</td>\n",
       "      <td>18</td>\n",
       "      <td>4.7</td>\n",
       "      <td>0</td>\n",
       "      <td>29.8</td>\n",
       "      <td>29.8</td>\n",
       "      <td>29.7</td>\n",
       "      <td>3.18</td>\n",
       "      <td>6</td>\n",
       "    </tr>\n",
       "    <tr>\n",
       "      <th>3</th>\n",
       "      <td>2016-04-06</td>\n",
       "      <td>4</td>\n",
       "      <td>76</td>\n",
       "      <td>71.2</td>\n",
       "      <td>69</td>\n",
       "      <td>73</td>\n",
       "      <td>70.0</td>\n",
       "      <td>66</td>\n",
       "      <td>100</td>\n",
       "      <td>96.1</td>\n",
       "      <td>85</td>\n",
       "      <td>20</td>\n",
       "      <td>7.0</td>\n",
       "      <td>0</td>\n",
       "      <td>29.8</td>\n",
       "      <td>29.7</td>\n",
       "      <td>29.7</td>\n",
       "      <td>2.37</td>\n",
       "      <td>2</td>\n",
       "    </tr>\n",
       "    <tr>\n",
       "      <th>4</th>\n",
       "      <td>2016-05-06</td>\n",
       "      <td>5</td>\n",
       "      <td>82</td>\n",
       "      <td>73.8</td>\n",
       "      <td>68</td>\n",
       "      <td>72</td>\n",
       "      <td>70.0</td>\n",
       "      <td>68</td>\n",
       "      <td>100</td>\n",
       "      <td>88.7</td>\n",
       "      <td>62</td>\n",
       "      <td>17</td>\n",
       "      <td>7.7</td>\n",
       "      <td>0</td>\n",
       "      <td>29.7</td>\n",
       "      <td>29.7</td>\n",
       "      <td>29.7</td>\n",
       "      <td>0.39</td>\n",
       "      <td>4</td>\n",
       "    </tr>\n",
       "  </tbody>\n",
       "</table>\n",
       "</div>"
      ],
      "text/plain": [
       "         Date  Day  Temp_max  Temp_avg  Temp_min  Dew_max  Dew_avg  Dew_min  \\\n",
       "0  2016-01-06    1        85      74.8        68       74     71.4       66   \n",
       "1  2016-02-06    2        76      71.2        66       74     70.3       66   \n",
       "2  2016-03-06    3        79      72.1        68       72     70.0       68   \n",
       "3  2016-04-06    4        76      71.2        69       73     70.0       66   \n",
       "4  2016-05-06    5        82      73.8        68       72     70.0       68   \n",
       "\n",
       "   Hum_max  Hum_avg  Hum_min  Wind_max  Wind_avg  Wind_min  Press_max  \\\n",
       "0      100     89.4       65        21       9.5         0       29.8   \n",
       "1      100     96.8       89        18       7.8         0       29.8   \n",
       "2      100     93.6       72        18       4.7         0       29.8   \n",
       "3      100     96.1       85        20       7.0         0       29.8   \n",
       "4      100     88.7       62        17       7.7         0       29.7   \n",
       "\n",
       "   Press_avg  Press_min  Precipit  day_of_week  \n",
       "0       29.8       29.7      0.00            2  \n",
       "1       29.8       29.7      4.33            5  \n",
       "2       29.8       29.7      3.18            6  \n",
       "3       29.7       29.7      2.37            2  \n",
       "4       29.7       29.7      0.39            4  "
      ]
     },
     "execution_count": 65,
     "metadata": {},
     "output_type": "execute_result"
    }
   ],
   "source": [
    "data.head()"
   ]
  },
  {
   "cell_type": "code",
   "execution_count": 66,
   "id": "be03a9f1",
   "metadata": {},
   "outputs": [
    {
     "data": {
      "text/plain": [
       "0       2016-01-06\n",
       "1       2016-02-06\n",
       "2       2016-03-06\n",
       "3       2016-04-06\n",
       "4       2016-05-06\n",
       "           ...    \n",
       "1547    2020-08-26\n",
       "1548    2020-08-27\n",
       "1549    2020-08-28\n",
       "1550    2020-08-29\n",
       "1551    2020-08-30\n",
       "Name: Date, Length: 1552, dtype: object"
      ]
     },
     "execution_count": 66,
     "metadata": {},
     "output_type": "execute_result"
    }
   ],
   "source": [
    "data['Date']"
   ]
  },
  {
   "cell_type": "code",
   "execution_count": 67,
   "id": "7acd6ee7",
   "metadata": {},
   "outputs": [],
   "source": [
    "values=data['Temp_max']"
   ]
  },
  {
   "cell_type": "code",
   "execution_count": 68,
   "id": "6418f292",
   "metadata": {},
   "outputs": [
    {
     "data": {
      "text/plain": [
       "0       85\n",
       "1       76\n",
       "2       79\n",
       "3       76\n",
       "4       82\n",
       "        ..\n",
       "1547    95\n",
       "1548    99\n",
       "1549    98\n",
       "1550    98\n",
       "1551    97\n",
       "Name: Temp_max, Length: 1552, dtype: int64"
      ]
     },
     "execution_count": 68,
     "metadata": {},
     "output_type": "execute_result"
    }
   ],
   "source": [
    "values"
   ]
  },
  {
   "cell_type": "code",
   "execution_count": 69,
   "id": "7c68605a",
   "metadata": {},
   "outputs": [],
   "source": [
    "dates=data['Date']"
   ]
  },
  {
   "cell_type": "code",
   "execution_count": 70,
   "id": "f5276b58",
   "metadata": {},
   "outputs": [],
   "source": [
    "data1=data[['Date','Temp_max']].copy()"
   ]
  },
  {
   "cell_type": "code",
   "execution_count": 71,
   "id": "7d5f9ee2",
   "metadata": {},
   "outputs": [
    {
     "data": {
      "text/html": [
       "<div>\n",
       "<style scoped>\n",
       "    .dataframe tbody tr th:only-of-type {\n",
       "        vertical-align: middle;\n",
       "    }\n",
       "\n",
       "    .dataframe tbody tr th {\n",
       "        vertical-align: top;\n",
       "    }\n",
       "\n",
       "    .dataframe thead th {\n",
       "        text-align: right;\n",
       "    }\n",
       "</style>\n",
       "<table border=\"1\" class=\"dataframe\">\n",
       "  <thead>\n",
       "    <tr style=\"text-align: right;\">\n",
       "      <th></th>\n",
       "      <th>Date</th>\n",
       "      <th>Temp_max</th>\n",
       "    </tr>\n",
       "  </thead>\n",
       "  <tbody>\n",
       "    <tr>\n",
       "      <th>0</th>\n",
       "      <td>2016-01-06</td>\n",
       "      <td>85</td>\n",
       "    </tr>\n",
       "    <tr>\n",
       "      <th>1</th>\n",
       "      <td>2016-02-06</td>\n",
       "      <td>76</td>\n",
       "    </tr>\n",
       "    <tr>\n",
       "      <th>2</th>\n",
       "      <td>2016-03-06</td>\n",
       "      <td>79</td>\n",
       "    </tr>\n",
       "    <tr>\n",
       "      <th>3</th>\n",
       "      <td>2016-04-06</td>\n",
       "      <td>76</td>\n",
       "    </tr>\n",
       "    <tr>\n",
       "      <th>4</th>\n",
       "      <td>2016-05-06</td>\n",
       "      <td>82</td>\n",
       "    </tr>\n",
       "  </tbody>\n",
       "</table>\n",
       "</div>"
      ],
      "text/plain": [
       "         Date  Temp_max\n",
       "0  2016-01-06        85\n",
       "1  2016-02-06        76\n",
       "2  2016-03-06        79\n",
       "3  2016-04-06        76\n",
       "4  2016-05-06        82"
      ]
     },
     "execution_count": 71,
     "metadata": {},
     "output_type": "execute_result"
    }
   ],
   "source": [
    "data1.head()"
   ]
  },
  {
   "cell_type": "code",
   "execution_count": 77,
   "id": "aeb2bf5b",
   "metadata": {},
   "outputs": [
    {
     "data": {
      "text/html": [
       "<div>\n",
       "<style scoped>\n",
       "    .dataframe tbody tr th:only-of-type {\n",
       "        vertical-align: middle;\n",
       "    }\n",
       "\n",
       "    .dataframe tbody tr th {\n",
       "        vertical-align: top;\n",
       "    }\n",
       "\n",
       "    .dataframe thead th {\n",
       "        text-align: right;\n",
       "    }\n",
       "</style>\n",
       "<table border=\"1\" class=\"dataframe\">\n",
       "  <thead>\n",
       "    <tr style=\"text-align: right;\">\n",
       "      <th></th>\n",
       "      <th>Date</th>\n",
       "      <th>Temp_max</th>\n",
       "    </tr>\n",
       "    <tr>\n",
       "      <th>Date</th>\n",
       "      <th></th>\n",
       "      <th></th>\n",
       "    </tr>\n",
       "  </thead>\n",
       "  <tbody>\n",
       "    <tr>\n",
       "      <th>2016-01-06</th>\n",
       "      <td>2016-01-06</td>\n",
       "      <td>85</td>\n",
       "    </tr>\n",
       "    <tr>\n",
       "      <th>2016-02-06</th>\n",
       "      <td>2016-02-06</td>\n",
       "      <td>76</td>\n",
       "    </tr>\n",
       "    <tr>\n",
       "      <th>2016-03-06</th>\n",
       "      <td>2016-03-06</td>\n",
       "      <td>79</td>\n",
       "    </tr>\n",
       "    <tr>\n",
       "      <th>2016-04-06</th>\n",
       "      <td>2016-04-06</td>\n",
       "      <td>76</td>\n",
       "    </tr>\n",
       "    <tr>\n",
       "      <th>2016-05-06</th>\n",
       "      <td>2016-05-06</td>\n",
       "      <td>82</td>\n",
       "    </tr>\n",
       "    <tr>\n",
       "      <th>...</th>\n",
       "      <td>...</td>\n",
       "      <td>...</td>\n",
       "    </tr>\n",
       "    <tr>\n",
       "      <th>2020-08-26</th>\n",
       "      <td>2020-08-26</td>\n",
       "      <td>95</td>\n",
       "    </tr>\n",
       "    <tr>\n",
       "      <th>2020-08-27</th>\n",
       "      <td>2020-08-27</td>\n",
       "      <td>99</td>\n",
       "    </tr>\n",
       "    <tr>\n",
       "      <th>2020-08-28</th>\n",
       "      <td>2020-08-28</td>\n",
       "      <td>98</td>\n",
       "    </tr>\n",
       "    <tr>\n",
       "      <th>2020-08-29</th>\n",
       "      <td>2020-08-29</td>\n",
       "      <td>98</td>\n",
       "    </tr>\n",
       "    <tr>\n",
       "      <th>2020-08-30</th>\n",
       "      <td>2020-08-30</td>\n",
       "      <td>97</td>\n",
       "    </tr>\n",
       "  </tbody>\n",
       "</table>\n",
       "<p>1552 rows × 2 columns</p>\n",
       "</div>"
      ],
      "text/plain": [
       "                  Date  Temp_max\n",
       "Date                            \n",
       "2016-01-06  2016-01-06        85\n",
       "2016-02-06  2016-02-06        76\n",
       "2016-03-06  2016-03-06        79\n",
       "2016-04-06  2016-04-06        76\n",
       "2016-05-06  2016-05-06        82\n",
       "...                ...       ...\n",
       "2020-08-26  2020-08-26        95\n",
       "2020-08-27  2020-08-27        99\n",
       "2020-08-28  2020-08-28        98\n",
       "2020-08-29  2020-08-29        98\n",
       "2020-08-30  2020-08-30        97\n",
       "\n",
       "[1552 rows x 2 columns]"
      ]
     },
     "execution_count": 77,
     "metadata": {},
     "output_type": "execute_result"
    }
   ],
   "source": [
    "data1.set_index(data['Date'])"
   ]
  },
  {
   "cell_type": "code",
   "execution_count": 80,
   "id": "860730af",
   "metadata": {},
   "outputs": [
    {
     "data": {
      "text/plain": [
       "<AxesSubplot:ylabel='Frequency'>"
      ]
     },
     "execution_count": 80,
     "metadata": {},
     "output_type": "execute_result"
    },
    {
     "data": {
      "image/png": "[encoded data removed]",
      "text/plain": [
       "<Figure size 432x288 with 1 Axes>"
      ]
     },
     "metadata": {
      "needs_background": "light"
     },
     "output_type": "display_data"
    }
   ],
   "source": [
    "data1['Temp_max'].plot(kind='hist',bins=20)"
   ]
  },
  {
   "cell_type": "code",
   "execution_count": 81,
   "id": "602e62cf",
   "metadata": {},
   "outputs": [
    {
     "data": {
      "text/plain": [
       "<AxesSubplot:>"
      ]
     },
     "execution_count": 81,
     "metadata": {},
     "output_type": "execute_result"
    },
    {
     "data": {
      "image/png": "[encoded data removed]",
      "text/plain": [
       "<Figure size 864x576 with 1 Axes>"
      ]
     },
     "metadata": {
      "needs_background": "light"
     },
     "output_type": "display_data"
    }
   ],
   "source": [
    "data1['Temp_max'].plot(kind='line',figsize=(12,8))"
   ]
  },
  {
   "cell_type": "code",
   "execution_count": 87,
   "id": "4b2ac840",
   "metadata": {},
   "outputs": [],
   "source": [
    "data1['lag1']=data1['Temp_max'].shift(1)"
   ]
  },
  {
   "cell_type": "code",
   "execution_count": 88,
   "id": "00b86e4a",
   "metadata": {},
   "outputs": [],
   "source": [
    "data1['lag2']=data1['Temp_max'].shift(2)"
   ]
  },
  {
   "cell_type": "code",
   "execution_count": 85,
   "id": "c06dec20",
   "metadata": {},
   "outputs": [],
   "source": [
    "data1['rollingmean']=data1['Temp_max'].rolling(5).mean()\n",
    "data1['rollingstd']=data1['Temp_max'].rolling(5).std()\n",
    "data1['rollingmin']=data1['Temp_max'].rolling(5).min()\n",
    "data1['rollingmax']=data1['Temp_max'].rolling(5).max()"
   ]
  },
  {
   "cell_type": "code",
   "execution_count": 95,
   "id": "ebed1df7",
   "metadata": {},
   "outputs": [],
   "source": [
    "data1['expandingmean']=data1['Temp_max'].expanding().mean()\n",
    "data1['expandingstd']=data1['Temp_max'].expanding().std()\n",
    "data1['expandingmin']=data1['Temp_max'].expanding().min()\n",
    "data1['expandingmax']=data1['Temp_max'].expanding().max()"
   ]
  },
  {
   "cell_type": "code",
   "execution_count": 96,
   "id": "e26a8967",
   "metadata": {},
   "outputs": [
    {
     "data": {
      "text/html": [
       "<div>\n",
       "<style scoped>\n",
       "    .dataframe tbody tr th:only-of-type {\n",
       "        vertical-align: middle;\n",
       "    }\n",
       "\n",
       "    .dataframe tbody tr th {\n",
       "        vertical-align: top;\n",
       "    }\n",
       "\n",
       "    .dataframe thead th {\n",
       "        text-align: right;\n",
       "    }\n",
       "</style>\n",
       "<table border=\"1\" class=\"dataframe\">\n",
       "  <thead>\n",
       "    <tr style=\"text-align: right;\">\n",
       "      <th></th>\n",
       "      <th>Date</th>\n",
       "      <th>Temp_max</th>\n",
       "      <th>lag1</th>\n",
       "      <th>lag2</th>\n",
       "      <th>rollingmean</th>\n",
       "      <th>rollingstd</th>\n",
       "      <th>rollingmin</th>\n",
       "      <th>rollingmax</th>\n",
       "      <th>expandingmean</th>\n",
       "      <th>expandingstd</th>\n",
       "      <th>expandingmin</th>\n",
       "      <th>expandingmax</th>\n",
       "    </tr>\n",
       "  </thead>\n",
       "  <tbody>\n",
       "    <tr>\n",
       "      <th>0</th>\n",
       "      <td>2016-01-06</td>\n",
       "      <td>85</td>\n",
       "      <td>NaN</td>\n",
       "      <td>NaN</td>\n",
       "      <td>85.0</td>\n",
       "      <td>NaN</td>\n",
       "      <td>85.0</td>\n",
       "      <td>85.0</td>\n",
       "      <td>85.0</td>\n",
       "      <td>NaN</td>\n",
       "      <td>85.0</td>\n",
       "      <td>85.0</td>\n",
       "    </tr>\n",
       "    <tr>\n",
       "      <th>1</th>\n",
       "      <td>2016-02-06</td>\n",
       "      <td>76</td>\n",
       "      <td>85.0</td>\n",
       "      <td>NaN</td>\n",
       "      <td>80.5</td>\n",
       "      <td>6.363961</td>\n",
       "      <td>76.0</td>\n",
       "      <td>85.0</td>\n",
       "      <td>80.5</td>\n",
       "      <td>6.363961</td>\n",
       "      <td>76.0</td>\n",
       "      <td>85.0</td>\n",
       "    </tr>\n",
       "    <tr>\n",
       "      <th>2</th>\n",
       "      <td>2016-03-06</td>\n",
       "      <td>79</td>\n",
       "      <td>76.0</td>\n",
       "      <td>85.0</td>\n",
       "      <td>80.0</td>\n",
       "      <td>4.582576</td>\n",
       "      <td>76.0</td>\n",
       "      <td>85.0</td>\n",
       "      <td>80.0</td>\n",
       "      <td>4.582576</td>\n",
       "      <td>76.0</td>\n",
       "      <td>85.0</td>\n",
       "    </tr>\n",
       "    <tr>\n",
       "      <th>3</th>\n",
       "      <td>2016-04-06</td>\n",
       "      <td>76</td>\n",
       "      <td>79.0</td>\n",
       "      <td>76.0</td>\n",
       "      <td>79.0</td>\n",
       "      <td>4.242641</td>\n",
       "      <td>76.0</td>\n",
       "      <td>85.0</td>\n",
       "      <td>79.0</td>\n",
       "      <td>4.242641</td>\n",
       "      <td>76.0</td>\n",
       "      <td>85.0</td>\n",
       "    </tr>\n",
       "    <tr>\n",
       "      <th>4</th>\n",
       "      <td>2016-05-06</td>\n",
       "      <td>82</td>\n",
       "      <td>76.0</td>\n",
       "      <td>79.0</td>\n",
       "      <td>79.6</td>\n",
       "      <td>3.911521</td>\n",
       "      <td>76.0</td>\n",
       "      <td>85.0</td>\n",
       "      <td>79.6</td>\n",
       "      <td>3.911521</td>\n",
       "      <td>76.0</td>\n",
       "      <td>85.0</td>\n",
       "    </tr>\n",
       "  </tbody>\n",
       "</table>\n",
       "</div>"
      ],
      "text/plain": [
       "         Date  Temp_max  lag1  lag2  rollingmean  rollingstd  rollingmin  \\\n",
       "0  2016-01-06        85   NaN   NaN         85.0         NaN        85.0   \n",
       "1  2016-02-06        76  85.0   NaN         80.5    6.363961        76.0   \n",
       "2  2016-03-06        79  76.0  85.0         80.0    4.582576        76.0   \n",
       "3  2016-04-06        76  79.0  76.0         79.0    4.242641        76.0   \n",
       "4  2016-05-06        82  76.0  79.0         79.6    3.911521        76.0   \n",
       "\n",
       "   rollingmax  expandingmean  expandingstd  expandingmin  expandingmax  \n",
       "0        85.0           85.0           NaN          85.0          85.0  \n",
       "1        85.0           80.5      6.363961          76.0          85.0  \n",
       "2        85.0           80.0      4.582576          76.0          85.0  \n",
       "3        85.0           79.0      4.242641          76.0          85.0  \n",
       "4        85.0           79.6      3.911521          76.0          85.0  "
      ]
     },
     "execution_count": 96,
     "metadata": {},
     "output_type": "execute_result"
    }
   ],
   "source": [
    "data1.head()"
   ]
  },
  {
   "cell_type": "code",
   "execution_count": null,
   "id": "494defa6",
   "metadata": {},
   "outputs": [],
   "source": []
  },
  {
   "cell_type": "code",
   "execution_count": null,
   "id": "c04d5abf",
   "metadata": {},
   "outputs": [],
   "source": []
  }
 ],
 "metadata": {
  "kernelspec": {
   "display_name": "Python 3",
   "language": "python",
   "name": "python3"
  },
  "language_info": {
   "codemirror_mode": {
    "name": "ipython",
    "version": 3
   },
   "file_extension": ".py",
   "mimetype": "text/x-python",
   "name": "python",
   "nbconvert_exporter": "python",
   "pygments_lexer": "ipython3",
   "version": "3.8.8"
  }
 },
 "nbformat": 4,
 "nbformat_minor": 5
}
